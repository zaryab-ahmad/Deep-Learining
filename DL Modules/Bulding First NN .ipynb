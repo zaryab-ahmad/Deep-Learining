{
 "cells": [
  {
   "cell_type": "code",
   "execution_count": 5,
   "id": "166bef00",
   "metadata": {},
   "outputs": [
    {
     "name": "stdout",
     "output_type": "stream",
     "text": [
      "11.2\n"
     ]
    }
   ],
   "source": [
    "inputs = [1,2,3]\n",
    "wights = [1,1.1,2.0]\n",
    "bais = 2\n",
    "outputs = inputs[0] * wights[0] +  inputs[1] * wights[1] +inputs[2] * wights[2] +bais\n",
    "\n",
    "print(outputs)\n",
    "\n"
   ]
  },
  {
   "cell_type": "code",
   "execution_count": 1,
   "id": "2e133f8e",
   "metadata": {},
   "outputs": [
    {
     "name": "stdout",
     "output_type": "stream",
     "text": [
      "13.6\n"
     ]
    }
   ],
   "source": [
    "inputs = [1,2,3,4]\n",
    "wights = [1,1.1,2.0,0.6]\n",
    "bais = 2\n",
    "outputs = inputs[0] * wights[0] +  inputs[1] * wights[1] +inputs[2] * wights[2]+inputs[3] * wights[3] +bais\n",
    "\n",
    "print(outputs)"
   ]
  },
  {
   "cell_type": "code",
   "execution_count": 22,
   "id": "5bfc5459",
   "metadata": {},
   "outputs": [
    {
     "name": "stdout",
     "output_type": "stream",
     "text": [
      "[6.699999999999999, 13.0, 27.200000000000003]\n"
     ]
    }
   ],
   "source": [
    "inputs = [1, 2.0, 3.0, 2.5]\n",
    "\n",
    "weights = [[1, 1.1, 2.0, 0.6],\n",
    "           [2, 3.0, 0.2, 0.3],\n",
    "           [1, 2.0, 3.2, 2.2]]\n",
    "\n",
    "biases = [2, 2, 2, 2]\n",
    "\n",
    "outputs = []  # Initialize an empty list to store the results\n",
    "\n",
    "# Calculate the outputs\n",
    "for i in range(len(inputs)-1):\n",
    "    output = (inputs[i] * weights[i][0] + \n",
    "              inputs[i] * weights[i][1] + \n",
    "              inputs[i] * weights[i][2] + \n",
    "              inputs[i] * weights[i][3] + \n",
    "              biases[i])\n",
    "    outputs.append(output)\n",
    "\n",
    "print(outputs)\n"
   ]
  },
  {
   "cell_type": "code",
   "execution_count": 19,
   "id": "86a9d5a8",
   "metadata": {},
   "outputs": [
    {
     "name": "stdout",
     "output_type": "stream",
     "text": [
      "[3.5, 2.75, 7.5]\n"
     ]
    }
   ],
   "source": [
    "inputs = [1, 2.0, 3.0, 2.5]\n",
    "\n",
    "weights = [[1, 1.1, 2.0, 0.6],\n",
    "           [2, 3.0, 0.2, 0.3],\n",
    "           [1, 2.0, 3.2, 2.2]]\n",
    "\n",
    "biases = [2, 2, 2, 2]\n",
    "\n",
    "out_puts = []\n",
    "\n",
    "for n_w , n_b in zip(wights,biases):\n",
    "    n_output = 0\n",
    "    for n_inputs , wight in zip(inputs, n_w):\n",
    "        n_output = n_inputs * wight\n",
    "    n_output += n_b\n",
    "    out_puts.append(n_output)\n",
    "    \n",
    "print(out_puts)"
   ]
  },
  {
   "cell_type": "code",
   "execution_count": 2,
   "id": "1da03872",
   "metadata": {},
   "outputs": [],
   "source": [
    "inputs = [1, 2.0, 3.0, 2.5]\n",
    "\n",
    "weights = [[1, 1.1, 2.0, 0.6],\n",
    "           [2, 3.0, 0.2, 0.3],\n",
    "           [1, 2.0, 3.2, 2.2]]\n",
    "\n",
    "biases = [2, 2, 2, 2]\n",
    "\n"
   ]
  },
  {
   "cell_type": "code",
   "execution_count": 5,
   "id": "f86a56b6",
   "metadata": {},
   "outputs": [
    {
     "name": "stdout",
     "output_type": "stream",
     "text": [
      "[12.7 12.7 12.7 12.7]\n"
     ]
    }
   ],
   "source": [
    "import numpy as np\n",
    "inputs = [1, 2.0, 3.0, 2.5]\n",
    "\n",
    "weights = [[1, 1.1, 2.0, 0.6],\n",
    "           [2, 3.0, 0.2, 0.3],\n",
    "           [1, 2.0, 3.2, 2.2]]\n",
    "\n",
    "biases = [2, 2, 2, 2]\n",
    "out_puts = np.dot(wights,inputs) + biases\n",
    "print(out_puts)"
   ]
  },
  {
   "cell_type": "markdown",
   "id": "3f7687b6",
   "metadata": {},
   "source": [
    "### Creating a headen Layer "
   ]
  },
  {
   "cell_type": "code",
   "execution_count": 9,
   "id": "ed8f424e",
   "metadata": {},
   "outputs": [
    {
     "name": "stdout",
     "output_type": "stream",
     "text": [
      "[[-4.85172323  6.85590903 -1.16295672 -0.29255075  0.60940158  1.64805086]\n",
      " [-4.85172323  6.85590903 -1.16295672 -0.29255075  0.60940158  1.64805086]]\n"
     ]
    }
   ],
   "source": [
    "import numpy as np\n",
    "\n",
    "class layer_dense:\n",
    "    def __init__(self, n_inputs, n_neural):\n",
    "        self.wights = 0.10 + np.random.randn(n_inputs,n_neural)\n",
    "        self.biases = np.zeros((1,n_neural))\n",
    "    def forward(self, inputs):\n",
    "        self.outputs = np.dot(inputs, self.wights) + self.biases\n",
    "        \n",
    "\n",
    "        \n",
    "X = [[1,2,3],\n",
    "    [1,2,3]]        \n",
    "layer1 = layer_dense(3,6)\n",
    "layer1.forward(X)\n",
    "print(layer1.outputs)\n"
   ]
  },
  {
   "cell_type": "code",
   "execution_count": null,
   "id": "7a20907b",
   "metadata": {},
   "outputs": [],
   "source": []
  }
 ],
 "metadata": {
  "kernelspec": {
   "display_name": "Python 3 (ipykernel)",
   "language": "python",
   "name": "python3"
  },
  "language_info": {
   "codemirror_mode": {
    "name": "ipython",
    "version": 3
   },
   "file_extension": ".py",
   "mimetype": "text/x-python",
   "name": "python",
   "nbconvert_exporter": "python",
   "pygments_lexer": "ipython3",
   "version": "3.11.3"
  }
 },
 "nbformat": 4,
 "nbformat_minor": 5
}
